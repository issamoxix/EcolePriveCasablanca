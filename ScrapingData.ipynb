{
  "nbformat": 4,
  "nbformat_minor": 0,
  "metadata": {
    "colab": {
      "name": "ScrapingData.ipynb",
      "provenance": []
    },
    "kernelspec": {
      "name": "python3",
      "display_name": "Python 3"
    },
    "language_info": {
      "name": "python"
    }
  },
  "cells": [
    {
      "cell_type": "code",
      "metadata": {
        "id": "PfFPosoKZgRR"
      },
      "source": [
        "import pandas as pd\n",
        "import requests as req\n",
        "from bs4 import BeautifulSoup\n"
      ],
      "execution_count": 5,
      "outputs": []
    },
    {
      "cell_type": "code",
      "metadata": {
        "id": "_YhHlmiJZuwc"
      },
      "source": [
        "# url = \"https://www.telecontact.ma/liens/colleges-prives/casablanca.php&page=1\"\n",
        "def GetRes(url):\n",
        "  res = req.get(url)\n",
        "  return res.text"
      ],
      "execution_count": 29,
      "outputs": []
    },
    {
      "cell_type": "code",
      "metadata": {
        "colab": {
          "base_uri": "https://localhost:8080/"
        },
        "id": "FFijhT40aVLZ",
        "outputId": "4bf777c0-d00a-4c39-a80c-be40fc59f43d"
      },
      "source": [
        "for r in range(1,21):\n",
        "  url = f\"https://www.telecontact.ma/liens/colleges-prives/casablanca.php&page={r}\"\n",
        "  soup = BeautifulSoup(GetRes(url),'html.parser')\n",
        "  search_res = soup.find(id=\"engine-results\")\n",
        "  for i in search_res.find_all('article'):\n",
        "    title = i.find(id=\"resultats_h3_span\").get_text()\n",
        "    addr = i.find(itemprop=\"address\").get_text()\n",
        "    df = df.append({'ecole':title,'addr':addr},ignore_index=True)\n",
        "print('Done')"
      ],
      "execution_count": 36,
      "outputs": [
        {
          "output_type": "stream",
          "name": "stdout",
          "text": [
            "Done\n"
          ]
        }
      ]
    },
    {
      "cell_type": "code",
      "metadata": {
        "id": "CNUmOusha55x"
      },
      "source": [
        "df = pd.DataFrame(columns=['ecole','addr'])"
      ],
      "execution_count": 15,
      "outputs": []
    },
    {
      "cell_type": "code",
      "metadata": {
        "id": "QiPwws-PeU6c"
      },
      "source": [
        "for i,row in df.iterrows():\n",
        "  row['ecole'] = row['ecole'].strip()"
      ],
      "execution_count": 59,
      "outputs": []
    },
    {
      "cell_type": "markdown",
      "metadata": {
        "id": "ncwk2j3bgb76"
      },
      "source": [
        "# New Section"
      ]
    }
  ]
}